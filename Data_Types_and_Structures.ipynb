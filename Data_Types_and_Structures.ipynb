{
  "nbformat": 4,
  "nbformat_minor": 0,
  "metadata": {
    "colab": {
      "provenance": []
    },
    "kernelspec": {
      "name": "python3",
      "display_name": "Python 3"
    },
    "language_info": {
      "name": "python"
    }
  },
  "cells": [
    {
      "cell_type": "markdown",
      "source": [
        "#Theory Questions"
      ],
      "metadata": {
        "id": "HOAhlGkqcr3K"
      }
    },
    {
      "cell_type": "markdown",
      "source": [
        "**1.**What are data structures, and why are they important?\n",
        "     \n",
        "  - Data structures are ways of organizing and storing data in a computer so that it can be accessed and modified efficiently.\n",
        "\n",
        "     for examples:-\n",
        "\n",
        "     i)List/Array\n",
        "\n",
        "     ii)Stack/Queue\n",
        "\n",
        "     iii)Set\n",
        "\n",
        "     iv)Dictionary\n",
        "     \n",
        "     v)Graph\n",
        "\n",
        "   **Why are data structure important?**\n",
        "\n",
        "     i)Efficiency:The right data structure can drastically improve performance (speed and memory usage).\n",
        "\n",
        "     ii)Organization: Helps manage and organize data logically.\n",
        "\n",
        "     iii)Scalability: Supports large-scale systems by enabling optimized data operations.\n",
        "\n",
        "     iv)Problem-solving: Essential for algorithm design and implementation.\n",
        "\n"
      ],
      "metadata": {
        "id": "S3Mn7MTEc30P"
      }
    },
    {
      "cell_type": "markdown",
      "source": [
        "**2.** Explain the difference between mutable and immutable data types with examples.\n",
        "   \n",
        "   - Mutable and Immutable data types refer to whether or not the values of an object can be changed after the object is created.\n",
        "\n",
        "  **Mutable Data Types:-**\n",
        "\n",
        "  Definition: Object that can be changed after creation.\n",
        "\n",
        "  **Examples**\n",
        "\n",
        "  i)list\n",
        "\n",
        "  ii)dict\n",
        "\n",
        "  iii)set\n",
        "\n",
        "  **Immutable Data Types:-**\n",
        "\n",
        "  Definition:Objects that cannot be changed after creation.\n",
        "\n",
        "  **Examples**\n",
        "\n",
        "  i)int\n",
        "\n",
        "  ii)float\n",
        "\n",
        "  iii)str\n",
        "\n",
        "  iv)tuple\n",
        "\n",
        "  v)frozenset\n",
        "\n",
        "\n",
        "\n"
      ],
      "metadata": {
        "id": "d5BmCMYbfjXj"
      }
    },
    {
      "cell_type": "markdown",
      "source": [
        "**3.** What are the main differences between lists and tuples in Python?\n",
        "\n",
        "  -  The main difference between lists and tuples in python is mutability, syntax and performance, like lists are mutable whereas tuples are immutable.\n",
        "\n",
        " **Lists**\n",
        "\n",
        " i)Mutable: We can modify its content like add, remove, or change items.\n",
        "\n",
        " ii)Syntax: Lists uses square brackets[]\n",
        "\n",
        " iii)Lists are less faster than Tuples for Iteration and fixed-size collections.\n",
        "\n",
        " iv)Use case: Uses when you need a dynamic collection (can grow or change).\n",
        "\n",
        " **Tuples**\n",
        "\n",
        " i)Immutable: Once created, its contents cannot be changed.\n",
        "\n",
        " ii)Syntax: Tuples uses Parentheses()\n",
        "\n",
        " iii)Tuples are generally faster than lists for iteration and fixed-size collections.\n",
        "\n",
        " iv)Use case: Use when the collection should be fixed and not modified, or to represent records (like rows in a database).\n",
        "\n"
      ],
      "metadata": {
        "id": "yLYhoseKOHdd"
      }
    },
    {
      "cell_type": "markdown",
      "source": [
        "**4.**Describe how dictionaries store data.\n",
        "\n",
        "   - In Python, dictionaries store data as key-value pairs using a data structure called a hash table. This allows for very fast lookups, insertions, and deletions.\n",
        "\n",
        " **How Dictionaries Store and Access Data**\n",
        "\n",
        " i)Hashing the Key: The hash is an integer that determines where to store the value in memory.\n",
        "\n",
        " ii)Finding a Slot: The hash is mapped to a specific index (slot) in an internal array. This slot stores the key-value pair.\n",
        "\n",
        " iii)Handling Collisions: Sometimes different keys may hash to the same index (a collision). Python handles this using open addressing (probing for the next free slot).\n",
        "\n",
        " iv)Retrieving Data: When you look up a key (e.g., my_dict[\"age\"]), Python hashes the key again and finds the corresponding value in the array."
      ],
      "metadata": {
        "id": "TPXkIaUCRRyh"
      }
    },
    {
      "cell_type": "markdown",
      "source": [
        "**5.**Why might you use a set instead of a list in Python?\n",
        "  \n",
        "   -  We might use set instead of a list in Python when we need to store unique elements and perform fast testing.\n",
        "\n",
        " **Major reasons to use set over a list:**\n",
        "\n",
        " i)Uniqueness: Set automatically removes duplicates, whereas in list we have to manually remove the duplicates.\n",
        "\n",
        " ii)when we care only about membership, not order or indexing.\n",
        "\n",
        " iii)When we need to eliminates duplicates.\n",
        "\n",
        " iv)You want fast comparisons and set operations (like union, intersection, etc.)."
      ],
      "metadata": {
        "id": "XNFuT4bGTLGq"
      }
    },
    {
      "cell_type": "markdown",
      "source": [
        "**6.**What is a string in Python, and how is it different from a list?\n",
        "\n",
        "  - In Python, a string is a sequence of characters enclosed in quotes (' or \"). It is an immutable data type, meaning once created, its contents cannot be changed.\n",
        "\n",
        " **Difference between a String and a List**\n",
        "\n",
        " String:-\n",
        "\n",
        " i)Data Type: Sequence of characters\n",
        "\n",
        " ii)Mutability: Immutable\n",
        "\n",
        " iii)Element Types: Only characters (e.g. 'a', '1')\n",
        "\n",
        " iv)Modification:\tNot allowed\n",
        "\n",
        " v)Syntax:\t\"abc\" or 'abc'\n",
        "\n",
        " List:-\n",
        "\n",
        " i)Data Type: Sequence of any objects\n",
        "\n",
        " ii)Mutability: Mutable\n",
        "\n",
        " iii)Element Types: Any data types (e.g. 1, 'a', True)\n",
        "\n",
        " iv)Modification:\tAllowed\n",
        "\n",
        " v)Syntax: [1, 2, 3]"
      ],
      "metadata": {
        "id": "499OyekiVWv0"
      }
    },
    {
      "cell_type": "markdown",
      "source": [
        "**7.**How do tuples ensure data integrity in Python?\n",
        "\n",
        "  - **How Tuples Ensure Data Integrity:**\n",
        "\n",
        " i)Immutability: Once a tuple is created, its elements cannot be changed, added, or removed. This prevents bugs due to unintended modifications.\n",
        "\n",
        " ii)Safe for Use as Keys: Because tuples are immutable and hashable, they can be used as dictionary keys or elements in a set — only immutable data types are allowed in these contexts.\n",
        "\n",
        " iii)Reliable as Fixed Records: Tuples are often used to represent records or data rows where the position and value should not change (e.g., from a database or API).\n",
        "\n",
        " iv)Thread-Safe by Design:Because their contents can't change, tuples are inherently safe to share between threads without needing locks, reducing the chance of race conditions.\n",
        "\n",
        "\n"
      ],
      "metadata": {
        "id": "9tUDGpJVXmEB"
      }
    },
    {
      "cell_type": "markdown",
      "source": [
        "**8.**What is a hash table, and how does it relate to dictionaries in Python?\n",
        "\n",
        "   - A hash table is a data structure that stores key-value pairs and provides fast access to values based on keys using a process called hashing. In Python, the underlying implementation of a dict (dictionary) is a hash table.\n",
        "\n",
        "  **How a Hash Table Works**\n",
        "\n",
        "  i)Hashing the Key: When you add a key-value pair to a dictionary, Python uses the built-in hash() function to compute a hash (an integer) from the key.\n",
        "\n",
        "  ii)Index Calculation: That hash is used to determine an index in an internal array (the \"bucket array\").\n",
        "\n",
        "  iii)Storing the Pair: The key and value are stored in the calculated slot.\n",
        "\n",
        "  iv)Retrieving a Value: Hashes the key again.\n",
        "\n",
        "  Locates the index.\n",
        "\n",
        " Retrieves the value from that slot.\n",
        "\n",
        "\n",
        "\n"
      ],
      "metadata": {
        "id": "iNctGhneZArw"
      }
    },
    {
      "cell_type": "markdown",
      "source": [
        "**9.** Can lists contain different data types in Python?\n",
        "\n",
        "   - Yes, lists in Python can contain different data types.\n",
        "   \n",
        "   Python lists are heterogeneous, meaning they can hold a mix of types within the same list — including integers, floats, strings, other lists, dictionaries, objects, etc."
      ],
      "metadata": {
        "id": "J3H6nq02ah8A"
      }
    },
    {
      "cell_type": "code",
      "source": [
        "l = [1, 2, True, \"John\", 3.2, {\"key\": \"value\"}]"
      ],
      "metadata": {
        "id": "SXpMbK0ma1D8"
      },
      "execution_count": null,
      "outputs": []
    },
    {
      "cell_type": "code",
      "source": [
        "print(l)"
      ],
      "metadata": {
        "colab": {
          "base_uri": "https://localhost:8080/"
        },
        "id": "D5H0uF7WbQU4",
        "outputId": "ca8511a4-a2c5-4ff6-b4cb-369f56be0365"
      },
      "execution_count": null,
      "outputs": [
        {
          "output_type": "stream",
          "name": "stdout",
          "text": [
            "[1, 2, True, 'John', 3.2, {'key': 'value'}]\n"
          ]
        }
      ]
    },
    {
      "cell_type": "markdown",
      "source": [
        "**10.** Explain why strings are immutable in Python.\n",
        "\n",
        "   - Strings are immutable in Python because once a string object is created, its contents cannot be changed. This design choice is intentional and provides several important benefits.\n",
        "\n",
        "   It promotes Data Integrity and safety as it is immutable."
      ],
      "metadata": {
        "id": "4HbLqyyxbUYv"
      }
    },
    {
      "cell_type": "markdown",
      "source": [
        "**11.**What advantages do dictionaries offer over lists for certain tasks?\n",
        "\n",
        "   - Dictionaries offer several advantages over lists for certain tasks, especially when working with data that involves key-value pairs.\n",
        "\n",
        "  **Some major Advantages are:-**\n",
        "\n",
        "  i)Fast lookups\n",
        "\n",
        "  ii)Key_Based Access\n",
        "\n",
        "  iii)No need for indexing\n",
        "\n",
        "  iv)Data organization\n",
        "\n",
        "  v)Avoiding Duplicates"
      ],
      "metadata": {
        "id": "zMYHxoqUqv3u"
      }
    },
    {
      "cell_type": "markdown",
      "source": [
        "**12.**Describe a scenario where using a tuple would be preferable over a list.\n",
        "\n",
        "   - A tuple is preferable over a list in scenarios where immutability is required—i.e., when you want to ensure that the data cannot be changed after creation.\n",
        "\n",
        " **Some Scenario:**\n",
        "\n",
        " i)Immutability:\n",
        "The latitude and longitude of a location shouldn't change accidentally during program execution. Tuples prevent modification, which protects data integrity.\n",
        "\n",
        " ii)Hashability:\n",
        "Tuples can be used as dictionary keys or elements in a set (because they are hashable if they contain only immutable types). Lists cannot.\n",
        "\n",
        " ii)Performance:\n",
        "Tuples are slightly more memory-efficient and faster to access than lists, which can be beneficial in large-scale applications.\n",
        "\n",
        "\n",
        "\n"
      ],
      "metadata": {
        "id": "SzEH2RmI9Yll"
      }
    },
    {
      "cell_type": "markdown",
      "source": [
        "**13.** How do sets handle duplicate values in Python?\n",
        "\n",
        "  - In Python, sets automatically remove duplicate values. When you add elements to a set, any duplicates are ignored, and only unique elements are stored.\n",
        "\n"
      ],
      "metadata": {
        "id": "-rhzlcns-Vgh"
      }
    },
    {
      "cell_type": "code",
      "source": [
        "#Example\n",
        "a = {1, 1, 1, 2, 2, 2, 3, 3, 3, 3, 4, 4, 4, 4, 4}\n",
        "print(a)"
      ],
      "metadata": {
        "colab": {
          "base_uri": "https://localhost:8080/"
        },
        "id": "hH2vg2Kg-nwI",
        "outputId": "bf4c0187-7971-4f06-af74-b7b9d3a07f28"
      },
      "execution_count": 1,
      "outputs": [
        {
          "output_type": "stream",
          "name": "stdout",
          "text": [
            "{1, 2, 3, 4}\n"
          ]
        }
      ]
    },
    {
      "cell_type": "markdown",
      "source": [
        "**14.**How does the “in” keyword work differently for lists and dictionaries?\n",
        "\n",
        "  - The in keyword behaves differently for lists and dictionaries in Python, based on what it checks for:\n",
        "\n",
        "  In a list: Checks for Values"
      ],
      "metadata": {
        "id": "fzCHJaiw-_5W"
      }
    },
    {
      "cell_type": "code",
      "source": [
        "cart = [\"apple\", \"banana\", \"kiwi\"]\n",
        "\"guava\" in cart"
      ],
      "metadata": {
        "colab": {
          "base_uri": "https://localhost:8080/"
        },
        "id": "xCDmhuQ5_f5I",
        "outputId": "8bcb53ec-e658-42a7-940b-b94a00e4c3e4"
      },
      "execution_count": 11,
      "outputs": [
        {
          "output_type": "execute_result",
          "data": {
            "text/plain": [
              "False"
            ]
          },
          "metadata": {},
          "execution_count": 11
        }
      ]
    },
    {
      "cell_type": "code",
      "source": [
        "\"apple\" in cart"
      ],
      "metadata": {
        "colab": {
          "base_uri": "https://localhost:8080/"
        },
        "id": "rS8EeygZAYFm",
        "outputId": "a74f0412-2807-4ab1-bff1-9ef742f15345"
      },
      "execution_count": 12,
      "outputs": [
        {
          "output_type": "execute_result",
          "data": {
            "text/plain": [
              "True"
            ]
          },
          "metadata": {},
          "execution_count": 12
        }
      ]
    },
    {
      "cell_type": "markdown",
      "source": [
        "   In a Dictionary: Checks for Keys"
      ],
      "metadata": {
        "id": "ZHQfUoqKAev-"
      }
    },
    {
      "cell_type": "code",
      "source": [
        "data = {\"name\": \"John\", \"age\": 25}\n",
        "\"name\" in data"
      ],
      "metadata": {
        "colab": {
          "base_uri": "https://localhost:8080/"
        },
        "id": "qurU_zlfAvIt",
        "outputId": "468106d3-272a-4fe8-beeb-f89e2089f1ff"
      },
      "execution_count": 14,
      "outputs": [
        {
          "output_type": "execute_result",
          "data": {
            "text/plain": [
              "True"
            ]
          },
          "metadata": {},
          "execution_count": 14
        }
      ]
    },
    {
      "cell_type": "code",
      "source": [
        "\"John\" in data"
      ],
      "metadata": {
        "colab": {
          "base_uri": "https://localhost:8080/"
        },
        "id": "XfrHKIHdBExz",
        "outputId": "472b84fd-152d-4195-be52-881b6dfa51af"
      },
      "execution_count": 15,
      "outputs": [
        {
          "output_type": "execute_result",
          "data": {
            "text/plain": [
              "False"
            ]
          },
          "metadata": {},
          "execution_count": 15
        }
      ]
    },
    {
      "cell_type": "markdown",
      "source": [
        "**15.**Can you modify the elements of a tuple? Explain why or why not.\n",
        "\n",
        "  - No, you cannot modify the elements of a tuple in Python. This is because tuples are immutable. Once a tuple is created, its contents (the elements it holds) cannot be changed, added to, or removed.\n",
        "\n"
      ],
      "metadata": {
        "id": "UC8li7etBO7i"
      }
    },
    {
      "cell_type": "code",
      "source": [
        "t = (1, 2, 3)"
      ],
      "metadata": {
        "id": "Gf2phr2DBvwF"
      },
      "execution_count": 16,
      "outputs": []
    },
    {
      "cell_type": "code",
      "source": [
        "t[0] = 5"
      ],
      "metadata": {
        "colab": {
          "base_uri": "https://localhost:8080/",
          "height": 141
        },
        "id": "_FVtZ4f1B0fF",
        "outputId": "8bb98eb0-67be-42d1-9f8b-25cc1b09639a"
      },
      "execution_count": 17,
      "outputs": [
        {
          "output_type": "error",
          "ename": "TypeError",
          "evalue": "'tuple' object does not support item assignment",
          "traceback": [
            "\u001b[0;31m---------------------------------------------------------------------------\u001b[0m",
            "\u001b[0;31mTypeError\u001b[0m                                 Traceback (most recent call last)",
            "\u001b[0;32m<ipython-input-17-6dd06f73cec4>\u001b[0m in \u001b[0;36m<cell line: 0>\u001b[0;34m()\u001b[0m\n\u001b[0;32m----> 1\u001b[0;31m \u001b[0mt\u001b[0m\u001b[0;34m[\u001b[0m\u001b[0;36m0\u001b[0m\u001b[0;34m]\u001b[0m \u001b[0;34m=\u001b[0m \u001b[0;36m5\u001b[0m\u001b[0;34m\u001b[0m\u001b[0;34m\u001b[0m\u001b[0m\n\u001b[0m",
            "\u001b[0;31mTypeError\u001b[0m: 'tuple' object does not support item assignment"
          ]
        }
      ]
    },
    {
      "cell_type": "markdown",
      "source": [
        "**16.**What is a nested dictionary, and give an example of its use case?\n",
        "\n",
        "  - A nested dictionary is a dictionary where one or more values are themselves dictionaries. This structure allows you to represent more complex, hierarchical data in an organized and readable way."
      ],
      "metadata": {
        "id": "TO48ceIrB6TE"
      }
    },
    {
      "cell_type": "markdown",
      "source": [
        "**17.**Describe the time complexity of accessing elements in a dictionary.\n",
        "\n",
        "  - The time complexity of accessing elements in a Python dictionary is generally:\n",
        "\n",
        " Average Case: O(1) – Constant Time\n",
        "\n",
        " i)Python dictionaries are implemented using hash tables.\n",
        "\n",
        " ii)When you access a value with a key (my_dict[key]), Python computes the key's hash and uses it to directly locate the value.\n",
        "\n",
        " iii)This makes lookups extremely fast, regardless of the dictionary's size (on average).\n",
        "\n",
        " Worst Case: O(n) – Linear Time\n",
        "\n",
        " i)In rare situations (like many hash collisions), access can degrade to O(n).\n",
        "\n",
        " ii)Python handles collisions internally with techniques like open addressing, so this is uncommon.\n",
        "\n",
        " iii)Performance can also degrade if the keys used are poorly hashable (e.g., custom objects without proper __hash__ implementations).\n",
        "\n"
      ],
      "metadata": {
        "id": "K9X8K5FuCTYi"
      }
    },
    {
      "cell_type": "markdown",
      "source": [
        "**18.** In what situations are lists preferred over dictionaries?\n",
        "\n",
        "  - Lists are preferred over dictionaries in situations where order, sequence, or positional access is important, and there's no need for key-based associations. Here are some specific use cases where lists shine:\n",
        "\n",
        "  i)Maintaining Order and indexing\n",
        "\n",
        "  ii)Simple Collections of Items\n",
        "\n",
        "  iii)Iteration in Order\n",
        "\n",
        "  iv)Dynamic and Homogeneous Data\n",
        "\n",
        "  v)When Order or Duplicates Matter"
      ],
      "metadata": {
        "id": "scl7goW2DKbd"
      }
    },
    {
      "cell_type": "markdown",
      "source": [
        "**19.**Why are dictionaries considered unordered, and how does that affect data retrieval?\n",
        "\n",
        "  - Dictionaries in Python were traditionally considered unordered because, before Python 3.7, they did not guarantee the order of items when iterating through them. The internal structure (a hash table) is designed for fast key-based access, not order."
      ],
      "metadata": {
        "id": "P9gB8YLXDu7H"
      }
    },
    {
      "cell_type": "markdown",
      "source": [
        "**20.** Explain the difference between a list and a dictionary in terms of data retrieval.\n",
        "\n",
        "  - The main difference between a list and a dictionary in terms of data retrieval lies in how you access elements and what kind of data structure they represent:\n",
        "\n",
        "  i)List: Index-Based Retrieval\n",
        "\n",
        "  Lists are ordered sequences of items.\n",
        "\n",
        "  Elements are accessed using integer indices (starting at 0).\n",
        "\n",
        "   Retrieval is position-based\n",
        "\n",
        "  ii)Dictionary: Key-Based Retrieval\n",
        "\n",
        "  Dictionaries store data as key-value pairs.\n",
        "\n",
        "  Elements are accessed using unique keys, not positions.\n",
        "\n",
        "  Retrieval is key-based and does not rely on order.\n"
      ],
      "metadata": {
        "id": "KxwEqPA1ECQT"
      }
    },
    {
      "cell_type": "markdown",
      "source": [
        "#Practical Questions"
      ],
      "metadata": {
        "id": "myCDCZNkrbON"
      }
    },
    {
      "cell_type": "markdown",
      "source": [
        "**1.** Write a code to create a string with your name and print it."
      ],
      "metadata": {
        "id": "_Jh_xRifrhrO"
      }
    },
    {
      "cell_type": "code",
      "source": [
        "name = \"Anish Nihal\"\n",
        "print(name)"
      ],
      "metadata": {
        "colab": {
          "base_uri": "https://localhost:8080/"
        },
        "id": "ARMJNPsEsSsr",
        "outputId": "f3a8db6a-a392-4f50-d22f-d9b49109b419"
      },
      "execution_count": null,
      "outputs": [
        {
          "output_type": "stream",
          "name": "stdout",
          "text": [
            "Anish Nihal\n"
          ]
        }
      ]
    },
    {
      "cell_type": "code",
      "source": [
        "type(name)"
      ],
      "metadata": {
        "colab": {
          "base_uri": "https://localhost:8080/"
        },
        "id": "vwniUKExsgNt",
        "outputId": "30960321-b052-42b1-b51f-cd89bcee6059"
      },
      "execution_count": null,
      "outputs": [
        {
          "output_type": "execute_result",
          "data": {
            "text/plain": [
              "str"
            ]
          },
          "metadata": {},
          "execution_count": 4
        }
      ]
    },
    {
      "cell_type": "markdown",
      "source": [
        "**2.** Write a code to find the length of the string \"Hello World\"."
      ],
      "metadata": {
        "id": "mGqDK5dPsn5-"
      }
    },
    {
      "cell_type": "code",
      "source": [
        "a = \"Hello World\"\n",
        "len(a)"
      ],
      "metadata": {
        "colab": {
          "base_uri": "https://localhost:8080/"
        },
        "id": "d-XkUv6qs2Az",
        "outputId": "86f7d1a7-797c-4716-c049-e81780a1d8f9"
      },
      "execution_count": null,
      "outputs": [
        {
          "output_type": "execute_result",
          "data": {
            "text/plain": [
              "11"
            ]
          },
          "metadata": {},
          "execution_count": 5
        }
      ]
    },
    {
      "cell_type": "markdown",
      "source": [
        "**3.** Write a code to slice the first 3 characters from the string \"Python Programming\"."
      ],
      "metadata": {
        "id": "9BxEJgvftA46"
      }
    },
    {
      "cell_type": "code",
      "source": [
        "a = \"Python Programming\""
      ],
      "metadata": {
        "id": "_81Rvq7ms-Oz"
      },
      "execution_count": null,
      "outputs": []
    },
    {
      "cell_type": "code",
      "source": [
        "a[0:3]"
      ],
      "metadata": {
        "colab": {
          "base_uri": "https://localhost:8080/",
          "height": 36
        },
        "id": "32dHQOwOtYRm",
        "outputId": "88018d0f-8bc2-49d9-a3d8-1c0b06882c60"
      },
      "execution_count": null,
      "outputs": [
        {
          "output_type": "execute_result",
          "data": {
            "text/plain": [
              "'Pyt'"
            ],
            "application/vnd.google.colaboratory.intrinsic+json": {
              "type": "string"
            }
          },
          "metadata": {},
          "execution_count": 10
        }
      ]
    },
    {
      "cell_type": "markdown",
      "source": [
        "**4.**Write a code to convert the string \"hello\" to uppercase."
      ],
      "metadata": {
        "id": "BI8iz2j5tqgd"
      }
    },
    {
      "cell_type": "code",
      "source": [
        "a = \"hello\""
      ],
      "metadata": {
        "id": "R5qZbGJBthCj"
      },
      "execution_count": null,
      "outputs": []
    },
    {
      "cell_type": "code",
      "source": [
        "a.upper()"
      ],
      "metadata": {
        "colab": {
          "base_uri": "https://localhost:8080/",
          "height": 36
        },
        "id": "As2war04t6Yv",
        "outputId": "274c186a-fe64-4a94-ea05-47550b33e2ba"
      },
      "execution_count": null,
      "outputs": [
        {
          "output_type": "execute_result",
          "data": {
            "text/plain": [
              "'HELLO'"
            ],
            "application/vnd.google.colaboratory.intrinsic+json": {
              "type": "string"
            }
          },
          "metadata": {},
          "execution_count": 12
        }
      ]
    },
    {
      "cell_type": "markdown",
      "source": [
        "**5.**Write a code to replace the word \"apple\" with \"orange\" in the string \"I like apple\"."
      ],
      "metadata": {
        "id": "Ubyimm-dt98N"
      }
    },
    {
      "cell_type": "code",
      "source": [
        "a = \"I like apple\""
      ],
      "metadata": {
        "id": "fEKxrn9Et8QJ"
      },
      "execution_count": null,
      "outputs": []
    },
    {
      "cell_type": "code",
      "source": [
        "a.replace(\"apple\", \"orange\")"
      ],
      "metadata": {
        "colab": {
          "base_uri": "https://localhost:8080/",
          "height": 36
        },
        "id": "ct07IBU1uI56",
        "outputId": "bde10dca-f993-48b5-c608-4a870a09098f"
      },
      "execution_count": null,
      "outputs": [
        {
          "output_type": "execute_result",
          "data": {
            "text/plain": [
              "'I like orange'"
            ],
            "application/vnd.google.colaboratory.intrinsic+json": {
              "type": "string"
            }
          },
          "metadata": {},
          "execution_count": 14
        }
      ]
    },
    {
      "cell_type": "markdown",
      "source": [
        "**6.**Write a code to create a list with numbers 1 to 5 and print it."
      ],
      "metadata": {
        "id": "TPCibUX8ugT6"
      }
    },
    {
      "cell_type": "code",
      "source": [
        "l = [1, 2, 3, 4, 5]\n",
        "print(l)"
      ],
      "metadata": {
        "colab": {
          "base_uri": "https://localhost:8080/"
        },
        "id": "OD7ZhEIaucou",
        "outputId": "0d23459d-e17e-4467-e73b-937e8d8b33b3"
      },
      "execution_count": null,
      "outputs": [
        {
          "output_type": "stream",
          "name": "stdout",
          "text": [
            "[1, 2, 3, 4, 5]\n"
          ]
        }
      ]
    },
    {
      "cell_type": "code",
      "source": [
        "type(l)"
      ],
      "metadata": {
        "colab": {
          "base_uri": "https://localhost:8080/"
        },
        "id": "Qpr0hqJiuvQq",
        "outputId": "b71c1b34-774c-4b51-8292-2a2811b3bffd"
      },
      "execution_count": null,
      "outputs": [
        {
          "output_type": "execute_result",
          "data": {
            "text/plain": [
              "list"
            ]
          },
          "metadata": {},
          "execution_count": 16
        }
      ]
    },
    {
      "cell_type": "markdown",
      "source": [
        "**7.**Write a code to append the number 10 to the list [1, 2, 3, 4]."
      ],
      "metadata": {
        "id": "9JkMJUFNu6uz"
      }
    },
    {
      "cell_type": "code",
      "source": [
        "l = [1,2,3,4]"
      ],
      "metadata": {
        "id": "xfQvFz54u4Fq"
      },
      "execution_count": null,
      "outputs": []
    },
    {
      "cell_type": "code",
      "source": [
        "l.append(10)"
      ],
      "metadata": {
        "id": "jkA9CGEGvJs5"
      },
      "execution_count": null,
      "outputs": []
    },
    {
      "cell_type": "code",
      "source": [
        "l"
      ],
      "metadata": {
        "colab": {
          "base_uri": "https://localhost:8080/"
        },
        "id": "9_goktzFvM1e",
        "outputId": "b7f67c87-ba8d-42a8-b8a4-d3eb9718eb3d"
      },
      "execution_count": null,
      "outputs": [
        {
          "output_type": "execute_result",
          "data": {
            "text/plain": [
              "[1, 2, 3, 4, 10]"
            ]
          },
          "metadata": {},
          "execution_count": 20
        }
      ]
    },
    {
      "cell_type": "markdown",
      "source": [
        "**8.** Write a code to remove the number 3 from the list [1, 2, 3, 4, 5]."
      ],
      "metadata": {
        "id": "mCe0SmdkvXSI"
      }
    },
    {
      "cell_type": "code",
      "source": [
        "l = [1,2,3,4,5]"
      ],
      "metadata": {
        "id": "zc2ttX-DvNmw"
      },
      "execution_count": null,
      "outputs": []
    },
    {
      "cell_type": "code",
      "source": [
        "l.remove(3)"
      ],
      "metadata": {
        "id": "P-bOOSy4vis3"
      },
      "execution_count": null,
      "outputs": []
    },
    {
      "cell_type": "code",
      "source": [
        "l"
      ],
      "metadata": {
        "colab": {
          "base_uri": "https://localhost:8080/"
        },
        "id": "tdxQT2jzvlD3",
        "outputId": "af2e20d0-104f-447e-83a8-346b0f380f53"
      },
      "execution_count": null,
      "outputs": [
        {
          "output_type": "execute_result",
          "data": {
            "text/plain": [
              "[1, 2, 4, 5]"
            ]
          },
          "metadata": {},
          "execution_count": 23
        }
      ]
    },
    {
      "cell_type": "markdown",
      "source": [
        "**9.**Write a code to access the second element in the list ['a', 'b', 'c', 'd']."
      ],
      "metadata": {
        "id": "AqUa_7ITvmjM"
      }
    },
    {
      "cell_type": "code",
      "source": [
        "l = ['a', 'b', 'c', 'd']\n",
        "l[1]"
      ],
      "metadata": {
        "colab": {
          "base_uri": "https://localhost:8080/",
          "height": 36
        },
        "id": "oLXMdFJqvlcQ",
        "outputId": "e75bce57-643a-4c1f-b63c-5a13d92a0706"
      },
      "execution_count": null,
      "outputs": [
        {
          "output_type": "execute_result",
          "data": {
            "text/plain": [
              "'b'"
            ],
            "application/vnd.google.colaboratory.intrinsic+json": {
              "type": "string"
            }
          },
          "metadata": {},
          "execution_count": 24
        }
      ]
    },
    {
      "cell_type": "markdown",
      "source": [
        "**10.** Write a code to reverse the list [10, 20, 30, 40, 50]."
      ],
      "metadata": {
        "id": "6j9Uf3SbwNeE"
      }
    },
    {
      "cell_type": "code",
      "source": [
        "l = [10, 20, 30, 40, 50]"
      ],
      "metadata": {
        "id": "L20fOZh4wMoj"
      },
      "execution_count": null,
      "outputs": []
    },
    {
      "cell_type": "code",
      "source": [
        "l[::-1]"
      ],
      "metadata": {
        "colab": {
          "base_uri": "https://localhost:8080/"
        },
        "id": "PlrWdCJ4wcNe",
        "outputId": "21a3c415-0822-4b7f-ab29-f8ede69637b2"
      },
      "execution_count": null,
      "outputs": [
        {
          "output_type": "execute_result",
          "data": {
            "text/plain": [
              "[50, 40, 30, 20, 10]"
            ]
          },
          "metadata": {},
          "execution_count": 26
        }
      ]
    },
    {
      "cell_type": "markdown",
      "source": [
        "**11.** Write a code to create a tuple with the elements 100, 200, 300 and print it."
      ],
      "metadata": {
        "id": "nJT0rtGrwkop"
      }
    },
    {
      "cell_type": "code",
      "source": [
        "t = (100, 200, 300)\n",
        "print(t)"
      ],
      "metadata": {
        "colab": {
          "base_uri": "https://localhost:8080/"
        },
        "id": "ZRQ1ODKYweXb",
        "outputId": "04dc9e95-f0e1-44e8-f7ff-6f9b26e6f458"
      },
      "execution_count": null,
      "outputs": [
        {
          "output_type": "stream",
          "name": "stdout",
          "text": [
            "(100, 200, 300)\n"
          ]
        }
      ]
    },
    {
      "cell_type": "code",
      "source": [
        "type(t)"
      ],
      "metadata": {
        "colab": {
          "base_uri": "https://localhost:8080/"
        },
        "id": "duIrY3YWwybo",
        "outputId": "84fbcee0-e3a0-4762-c2c9-c35f59dac58d"
      },
      "execution_count": null,
      "outputs": [
        {
          "output_type": "execute_result",
          "data": {
            "text/plain": [
              "tuple"
            ]
          },
          "metadata": {},
          "execution_count": 29
        }
      ]
    },
    {
      "cell_type": "markdown",
      "source": [
        "**12.** Write a code to access the second-to-last element of the tuple ('red', 'green', 'blue', 'yellow')."
      ],
      "metadata": {
        "id": "X5C_qUhmw27t"
      }
    },
    {
      "cell_type": "code",
      "source": [
        "t = ('red', 'green', 'blue', 'yellow')"
      ],
      "metadata": {
        "id": "wbjwGEjMw2HT"
      },
      "execution_count": null,
      "outputs": []
    },
    {
      "cell_type": "code",
      "source": [
        "t[1:4]"
      ],
      "metadata": {
        "colab": {
          "base_uri": "https://localhost:8080/"
        },
        "id": "8VqNNgr1xC06",
        "outputId": "27b4f268-a60d-4377-e4dc-8d63958430ab"
      },
      "execution_count": null,
      "outputs": [
        {
          "output_type": "execute_result",
          "data": {
            "text/plain": [
              "('green', 'blue', 'yellow')"
            ]
          },
          "metadata": {},
          "execution_count": 32
        }
      ]
    },
    {
      "cell_type": "markdown",
      "source": [
        "**13.**Write a code to find the minimum number in the tuple (10, 20, 5, 15)."
      ],
      "metadata": {
        "id": "KXkJ65DfxPlR"
      }
    },
    {
      "cell_type": "code",
      "source": [
        "t = (10, 20, 5, 15)"
      ],
      "metadata": {
        "id": "L_2k978lxI8n"
      },
      "execution_count": null,
      "outputs": []
    },
    {
      "cell_type": "code",
      "source": [
        "min(t)"
      ],
      "metadata": {
        "colab": {
          "base_uri": "https://localhost:8080/"
        },
        "id": "7wtQDPIFxZhY",
        "outputId": "044fbfa7-6d11-4997-e72f-6bb23e7b04bf"
      },
      "execution_count": null,
      "outputs": [
        {
          "output_type": "execute_result",
          "data": {
            "text/plain": [
              "5"
            ]
          },
          "metadata": {},
          "execution_count": 34
        }
      ]
    },
    {
      "cell_type": "markdown",
      "source": [
        "**14.**Write a code to find the index of the element \"cat\" in the tuple ('dog', 'cat', 'rabbit')."
      ],
      "metadata": {
        "id": "Uhfj7NXyxgsG"
      }
    },
    {
      "cell_type": "code",
      "source": [
        "t = ('dog', 'cat', 'rabbit')"
      ],
      "metadata": {
        "id": "X8PiEsTSxa-l"
      },
      "execution_count": null,
      "outputs": []
    },
    {
      "cell_type": "code",
      "source": [
        "t.index('cat')"
      ],
      "metadata": {
        "colab": {
          "base_uri": "https://localhost:8080/"
        },
        "id": "FyIdbZx-x87j",
        "outputId": "b7135778-2f88-4858-bdb7-e10d681f88b9"
      },
      "execution_count": null,
      "outputs": [
        {
          "output_type": "execute_result",
          "data": {
            "text/plain": [
              "1"
            ]
          },
          "metadata": {},
          "execution_count": 36
        }
      ]
    },
    {
      "cell_type": "markdown",
      "source": [
        "**15.** Write a code to create a tuple containing three different fruits and check if \"kiwi\" is in it."
      ],
      "metadata": {
        "id": "d5E5jRTWyXF3"
      }
    },
    {
      "cell_type": "code",
      "source": [
        "t = (\"orange\", \"apple\", \"kiwi\")"
      ],
      "metadata": {
        "id": "Oz0NR3MAyQD_"
      },
      "execution_count": null,
      "outputs": []
    },
    {
      "cell_type": "code",
      "source": [
        "\"kiwi\" in t"
      ],
      "metadata": {
        "colab": {
          "base_uri": "https://localhost:8080/"
        },
        "id": "1QwPuNmiypfY",
        "outputId": "5d611217-fe8a-4c49-ef84-e2a170f9894b"
      },
      "execution_count": null,
      "outputs": [
        {
          "output_type": "execute_result",
          "data": {
            "text/plain": [
              "True"
            ]
          },
          "metadata": {},
          "execution_count": 39
        }
      ]
    },
    {
      "cell_type": "markdown",
      "source": [
        "**16.** Write a code to create a set with the elements 'a', 'b', 'c' and print it."
      ],
      "metadata": {
        "id": "WAJmmWQUP2Wo"
      }
    },
    {
      "cell_type": "code",
      "source": [
        "s = {'a', 'b', 'c'}"
      ],
      "metadata": {
        "id": "eY0UWizjyuhV"
      },
      "execution_count": null,
      "outputs": []
    },
    {
      "cell_type": "code",
      "source": [
        "print(s)"
      ],
      "metadata": {
        "colab": {
          "base_uri": "https://localhost:8080/"
        },
        "id": "toFiXmF2QRF6",
        "outputId": "c32a7227-cd9b-4fe5-d8d4-7f52f9727563"
      },
      "execution_count": null,
      "outputs": [
        {
          "output_type": "stream",
          "name": "stdout",
          "text": [
            "{'b', 'a', 'c'}\n"
          ]
        }
      ]
    },
    {
      "cell_type": "code",
      "source": [
        "type(s)"
      ],
      "metadata": {
        "colab": {
          "base_uri": "https://localhost:8080/"
        },
        "id": "tSw2Xf3mQUiW",
        "outputId": "85b4ca49-8a12-4d50-966e-010614630f3f"
      },
      "execution_count": null,
      "outputs": [
        {
          "output_type": "execute_result",
          "data": {
            "text/plain": [
              "set"
            ]
          },
          "metadata": {},
          "execution_count": 6
        }
      ]
    },
    {
      "cell_type": "markdown",
      "source": [
        "**17.**Write a code to clear all elements from the set {1, 2, 3, 4, 5}."
      ],
      "metadata": {
        "id": "0U3QmrU7Q1Yu"
      }
    },
    {
      "cell_type": "code",
      "source": [
        "s = {1, 2, 3, 4, 5}"
      ],
      "metadata": {
        "id": "ZKKrzi8SQZlP"
      },
      "execution_count": null,
      "outputs": []
    },
    {
      "cell_type": "code",
      "source": [
        "s.clear()"
      ],
      "metadata": {
        "id": "mgaay8x7REPx"
      },
      "execution_count": null,
      "outputs": []
    },
    {
      "cell_type": "code",
      "source": [
        "s"
      ],
      "metadata": {
        "colab": {
          "base_uri": "https://localhost:8080/"
        },
        "id": "VTHQmVS5RF9G",
        "outputId": "f32031fb-1a44-41e6-c454-6d0b7e69943d"
      },
      "execution_count": null,
      "outputs": [
        {
          "output_type": "execute_result",
          "data": {
            "text/plain": [
              "set()"
            ]
          },
          "metadata": {},
          "execution_count": 9
        }
      ]
    },
    {
      "cell_type": "markdown",
      "source": [
        "**18.**Write a code to remove the element 4 from the set {1, 2, 3, 4}."
      ],
      "metadata": {
        "id": "HiIGH8_eRSqL"
      }
    },
    {
      "cell_type": "code",
      "source": [
        "s = {1, 2, 3, 4}"
      ],
      "metadata": {
        "id": "Wp4mIbmfRGrm"
      },
      "execution_count": null,
      "outputs": []
    },
    {
      "cell_type": "code",
      "source": [
        "s.remove(4)"
      ],
      "metadata": {
        "id": "xF5EF6pmRcgs"
      },
      "execution_count": null,
      "outputs": []
    },
    {
      "cell_type": "code",
      "source": [
        "s"
      ],
      "metadata": {
        "colab": {
          "base_uri": "https://localhost:8080/"
        },
        "id": "oFJpWaInRhwP",
        "outputId": "e2e5caed-1856-4c61-cee3-56be52d15f82"
      },
      "execution_count": null,
      "outputs": [
        {
          "output_type": "execute_result",
          "data": {
            "text/plain": [
              "{1, 2, 3}"
            ]
          },
          "metadata": {},
          "execution_count": 12
        }
      ]
    },
    {
      "cell_type": "markdown",
      "source": [
        "**19.**Write a code to find the union of two sets {1, 2, 3} and {3, 4, 5}."
      ],
      "metadata": {
        "id": "W_M_KWFCRjVj"
      }
    },
    {
      "cell_type": "code",
      "source": [
        "s1 = {1, 2, 3}"
      ],
      "metadata": {
        "id": "ZNUcupU5RiSc"
      },
      "execution_count": null,
      "outputs": []
    },
    {
      "cell_type": "code",
      "source": [
        "s2 = {3, 4, 5}"
      ],
      "metadata": {
        "id": "cXFKumrMR_d3"
      },
      "execution_count": null,
      "outputs": []
    },
    {
      "cell_type": "code",
      "source": [
        "s1 | s2"
      ],
      "metadata": {
        "colab": {
          "base_uri": "https://localhost:8080/"
        },
        "id": "PBNa7zdTR8M7",
        "outputId": "e7795768-46e7-4a46-efd7-562d30f96200"
      },
      "execution_count": null,
      "outputs": [
        {
          "output_type": "execute_result",
          "data": {
            "text/plain": [
              "{1, 2, 3, 4, 5}"
            ]
          },
          "metadata": {},
          "execution_count": 15
        }
      ]
    },
    {
      "cell_type": "markdown",
      "source": [
        "**20.**Write a code to find the intersection of two sets {1, 2, 3} and {2, 3, 4}."
      ],
      "metadata": {
        "id": "JQswDfdHSLAR"
      }
    },
    {
      "cell_type": "code",
      "source": [
        "s1 = {1, 2, 3}"
      ],
      "metadata": {
        "id": "muIcvAEkSDt3"
      },
      "execution_count": null,
      "outputs": []
    },
    {
      "cell_type": "code",
      "source": [
        "s2 = {3, 4, 5}"
      ],
      "metadata": {
        "id": "YJOacSFmSWaX"
      },
      "execution_count": null,
      "outputs": []
    },
    {
      "cell_type": "code",
      "source": [
        "s1 & s2"
      ],
      "metadata": {
        "colab": {
          "base_uri": "https://localhost:8080/"
        },
        "id": "hVg3aV-KSXI5",
        "outputId": "10c27697-da4d-4ee4-b5e0-76ec50a69461"
      },
      "execution_count": null,
      "outputs": [
        {
          "output_type": "execute_result",
          "data": {
            "text/plain": [
              "{3}"
            ]
          },
          "metadata": {},
          "execution_count": 18
        }
      ]
    },
    {
      "cell_type": "markdown",
      "source": [
        "**21.**Write a code to create a dictionary with the keys \"name\", \"age\", and \"city\", and print it."
      ],
      "metadata": {
        "id": "U_3dAaQKSeCU"
      }
    },
    {
      "cell_type": "code",
      "source": [
        "d = {\"name\": \"Anish\", \"age\": 22, \"city\": \"Bhilai\"}"
      ],
      "metadata": {
        "id": "eSoHIGGeScoe"
      },
      "execution_count": null,
      "outputs": []
    },
    {
      "cell_type": "code",
      "source": [
        "print(d)"
      ],
      "metadata": {
        "colab": {
          "base_uri": "https://localhost:8080/"
        },
        "id": "6yGIurfQTIzq",
        "outputId": "7cfbe1be-32b9-4d62-b8c0-ee95ff292f1a"
      },
      "execution_count": null,
      "outputs": [
        {
          "output_type": "stream",
          "name": "stdout",
          "text": [
            "{'name': 'Anish', 'age': 22, 'city': 'Bhilai'}\n"
          ]
        }
      ]
    },
    {
      "cell_type": "code",
      "source": [
        "type(d)"
      ],
      "metadata": {
        "colab": {
          "base_uri": "https://localhost:8080/"
        },
        "id": "8r5qltGETKnX",
        "outputId": "9f6feb7e-abee-41f3-c163-63a73fcc461d"
      },
      "execution_count": null,
      "outputs": [
        {
          "output_type": "execute_result",
          "data": {
            "text/plain": [
              "dict"
            ]
          },
          "metadata": {},
          "execution_count": 21
        }
      ]
    },
    {
      "cell_type": "markdown",
      "source": [
        "**22.**Write a code to add a new key-value pair \"country\": \"USA\" to the dictionary {'name': 'John', 'age': 25}."
      ],
      "metadata": {
        "id": "UW44Q8hJTOF1"
      }
    },
    {
      "cell_type": "code",
      "source": [
        "d = {'name': 'John', 'age': 25}\n",
        "d"
      ],
      "metadata": {
        "colab": {
          "base_uri": "https://localhost:8080/"
        },
        "id": "ZmmbP9NnTMCq",
        "outputId": "373c8624-5e9e-406c-df1b-f65c454ed8f1"
      },
      "execution_count": null,
      "outputs": [
        {
          "output_type": "execute_result",
          "data": {
            "text/plain": [
              "{'name': 'John', 'age': 25}"
            ]
          },
          "metadata": {},
          "execution_count": 33
        }
      ]
    },
    {
      "cell_type": "code",
      "source": [
        "d[\"country\"] = \"USA\""
      ],
      "metadata": {
        "id": "7PddIz58Tp6w"
      },
      "execution_count": null,
      "outputs": []
    },
    {
      "cell_type": "code",
      "source": [
        "d"
      ],
      "metadata": {
        "colab": {
          "base_uri": "https://localhost:8080/"
        },
        "id": "7jkLltFaUHc7",
        "outputId": "1b92bc2f-43fc-4f08-b677-a81389f42095"
      },
      "execution_count": null,
      "outputs": [
        {
          "output_type": "execute_result",
          "data": {
            "text/plain": [
              "{'name': 'John', 'age': 25, 'country': 'USA'}"
            ]
          },
          "metadata": {},
          "execution_count": 25
        }
      ]
    },
    {
      "cell_type": "markdown",
      "source": [
        "**23.**Write a code to access the value associated with the key \"name\" in the dictionary {'name': 'Alice', 'age': 30}."
      ],
      "metadata": {
        "id": "IdmnaAzEUR0e"
      }
    },
    {
      "cell_type": "code",
      "source": [
        "d = {'name': 'Alice', 'age': 30}"
      ],
      "metadata": {
        "id": "qwpUTqz0UPu4"
      },
      "execution_count": null,
      "outputs": []
    },
    {
      "cell_type": "code",
      "source": [
        "d[\"name\"]"
      ],
      "metadata": {
        "colab": {
          "base_uri": "https://localhost:8080/",
          "height": 36
        },
        "id": "vREgZU3MUiNq",
        "outputId": "53154d64-ff61-4cd1-ab9c-4add68bc58d8"
      },
      "execution_count": null,
      "outputs": [
        {
          "output_type": "execute_result",
          "data": {
            "text/plain": [
              "'Alice'"
            ],
            "application/vnd.google.colaboratory.intrinsic+json": {
              "type": "string"
            }
          },
          "metadata": {},
          "execution_count": 27
        }
      ]
    },
    {
      "cell_type": "markdown",
      "source": [
        "**24.** Write a code to remove the key \"age\" from the dictionary {'name': 'Bob', 'age': 22, 'city': 'New York'}."
      ],
      "metadata": {
        "id": "oRizoDbZUsi2"
      }
    },
    {
      "cell_type": "code",
      "source": [
        "d = {'name': 'Bob', 'age': 22, 'city': 'New York'}\n",
        "d"
      ],
      "metadata": {
        "colab": {
          "base_uri": "https://localhost:8080/"
        },
        "id": "e8krnHUTUnqj",
        "outputId": "29a4f2f5-50b1-4419-cc07-27454d0f3993"
      },
      "execution_count": null,
      "outputs": [
        {
          "output_type": "execute_result",
          "data": {
            "text/plain": [
              "{'name': 'Bob', 'age': 22, 'city': 'New York'}"
            ]
          },
          "metadata": {},
          "execution_count": 32
        }
      ]
    },
    {
      "cell_type": "code",
      "source": [
        "del d[\"age\"]"
      ],
      "metadata": {
        "id": "nAR5i3Y6U5fe"
      },
      "execution_count": null,
      "outputs": []
    },
    {
      "cell_type": "code",
      "source": [
        "d"
      ],
      "metadata": {
        "colab": {
          "base_uri": "https://localhost:8080/"
        },
        "id": "_-YlB5zDU9EW",
        "outputId": "0d9e460b-9c8b-4858-a8e7-ac940e65cc43"
      },
      "execution_count": null,
      "outputs": [
        {
          "output_type": "execute_result",
          "data": {
            "text/plain": [
              "{'name': 'Bob', 'city': 'New York'}"
            ]
          },
          "metadata": {},
          "execution_count": 31
        }
      ]
    },
    {
      "cell_type": "markdown",
      "source": [
        "**25.**Write a code to check if the key \"city\" exists in the dictionary {'name': 'Alice', 'city': 'Paris'}."
      ],
      "metadata": {
        "id": "xA2hKT1YVcrt"
      }
    },
    {
      "cell_type": "code",
      "source": [
        "d = {'name': 'Alice', 'city': 'Paris'}\n",
        "\n",
        "if 'city' in d:\n",
        "  print(\"The key 'city' exists in the dictionary\")\n",
        "\n",
        "else:\n",
        "  print(\"The key 'city' does not exists in the dictionary\")"
      ],
      "metadata": {
        "colab": {
          "base_uri": "https://localhost:8080/"
        },
        "id": "qURo67eUVQzQ",
        "outputId": "e32b11d3-ebd5-4e35-a423-69d2422172b5"
      },
      "execution_count": null,
      "outputs": [
        {
          "output_type": "stream",
          "name": "stdout",
          "text": [
            "The key 'city' exists in the dictionary\n"
          ]
        }
      ]
    },
    {
      "cell_type": "markdown",
      "source": [
        "**26.**Write a code to create a list, a tuple, and a dictionary, and print them all."
      ],
      "metadata": {
        "id": "fhR0fbQtW7Dm"
      }
    },
    {
      "cell_type": "code",
      "source": [
        "l = [1, 2, 3, 4, 5]\n",
        "type(l)"
      ],
      "metadata": {
        "colab": {
          "base_uri": "https://localhost:8080/"
        },
        "id": "ioMY4qeMVpfZ",
        "outputId": "e185f4b9-904e-4801-bab5-44968fac3aca"
      },
      "execution_count": null,
      "outputs": [
        {
          "output_type": "execute_result",
          "data": {
            "text/plain": [
              "list"
            ]
          },
          "metadata": {},
          "execution_count": 36
        }
      ]
    },
    {
      "cell_type": "code",
      "source": [
        "t = (1, 2, 3, 4, 5)\n",
        "type(t)"
      ],
      "metadata": {
        "colab": {
          "base_uri": "https://localhost:8080/"
        },
        "id": "-HjJDitiXQ9V",
        "outputId": "e45e5a90-9b20-496e-b4fe-5d3e3c3663fd"
      },
      "execution_count": null,
      "outputs": [
        {
          "output_type": "execute_result",
          "data": {
            "text/plain": [
              "tuple"
            ]
          },
          "metadata": {},
          "execution_count": 38
        }
      ]
    },
    {
      "cell_type": "code",
      "source": [
        "d = {\"name\": \"john\", \"age\": 25}\n",
        "type(d)"
      ],
      "metadata": {
        "colab": {
          "base_uri": "https://localhost:8080/"
        },
        "id": "-Bc1zgTlXXp7",
        "outputId": "06aaba82-1a94-4054-b8f0-fde2465f9ab9"
      },
      "execution_count": null,
      "outputs": [
        {
          "output_type": "execute_result",
          "data": {
            "text/plain": [
              "dict"
            ]
          },
          "metadata": {},
          "execution_count": 40
        }
      ]
    },
    {
      "cell_type": "code",
      "source": [
        "print(l)\n",
        "print(t)\n",
        "print(d)"
      ],
      "metadata": {
        "colab": {
          "base_uri": "https://localhost:8080/"
        },
        "id": "o4lB-1Q_XtjB",
        "outputId": "bf970ff5-b274-425a-cb17-ad5e4b8875c9"
      },
      "execution_count": null,
      "outputs": [
        {
          "output_type": "stream",
          "name": "stdout",
          "text": [
            "[1, 2, 3, 4, 5]\n",
            "(1, 2, 3, 4, 5)\n",
            "{'name': 'john', 'age': 25}\n"
          ]
        }
      ]
    },
    {
      "cell_type": "markdown",
      "source": [
        "**27.**Write a code to create a list of 5 random numbers between 1 and 100, sort it in ascending order, and print the result.(replaced)"
      ],
      "metadata": {
        "id": "SftRk4rZYJRC"
      }
    },
    {
      "cell_type": "code",
      "source": [
        "l = [1, 19, 10, 15, 28]"
      ],
      "metadata": {
        "id": "zjXaC3aHYD7n"
      },
      "execution_count": null,
      "outputs": []
    },
    {
      "cell_type": "code",
      "source": [
        "print(l)"
      ],
      "metadata": {
        "colab": {
          "base_uri": "https://localhost:8080/"
        },
        "id": "wEav17iUYs4X",
        "outputId": "009b40c3-c7b1-4690-bead-7d6f899e22cc"
      },
      "execution_count": null,
      "outputs": [
        {
          "output_type": "stream",
          "name": "stdout",
          "text": [
            "[1, 19, 10, 15, 28]\n"
          ]
        }
      ]
    },
    {
      "cell_type": "code",
      "source": [
        "l.sort()"
      ],
      "metadata": {
        "id": "TCyJqwFhYtdi"
      },
      "execution_count": null,
      "outputs": []
    },
    {
      "cell_type": "code",
      "source": [
        "l"
      ],
      "metadata": {
        "colab": {
          "base_uri": "https://localhost:8080/"
        },
        "id": "FB6-XFnlY5dF",
        "outputId": "33e89267-50cc-4f69-c17a-1d69debc7ff5"
      },
      "execution_count": null,
      "outputs": [
        {
          "output_type": "execute_result",
          "data": {
            "text/plain": [
              "[1, 10, 15, 19, 28]"
            ]
          },
          "metadata": {},
          "execution_count": 49
        }
      ]
    },
    {
      "cell_type": "markdown",
      "source": [
        "**28.**Write a code to create a list with strings and print the element at the third index."
      ],
      "metadata": {
        "id": "fjyG513UZF6x"
      }
    },
    {
      "cell_type": "code",
      "source": [
        "l = [\"Apple\", \"Orange\", \"Guava\", \"Pineapple\", \"Kiwi\"]"
      ],
      "metadata": {
        "id": "gCrS3TC8Y6PT"
      },
      "execution_count": null,
      "outputs": []
    },
    {
      "cell_type": "code",
      "source": [
        "l[2]"
      ],
      "metadata": {
        "colab": {
          "base_uri": "https://localhost:8080/",
          "height": 36
        },
        "id": "QdyY0qc9ZiTe",
        "outputId": "020cbc1d-daf5-4f16-da79-75c40258fab0"
      },
      "execution_count": null,
      "outputs": [
        {
          "output_type": "execute_result",
          "data": {
            "text/plain": [
              "'Guava'"
            ],
            "application/vnd.google.colaboratory.intrinsic+json": {
              "type": "string"
            }
          },
          "metadata": {},
          "execution_count": 51
        }
      ]
    },
    {
      "cell_type": "markdown",
      "source": [
        "**29.** Write a code to combine two dictionaries into one and print the result."
      ],
      "metadata": {
        "id": "vLrsprcQZoKu"
      }
    },
    {
      "cell_type": "code",
      "source": [
        "d1 = {\"name\": \"john\"}"
      ],
      "metadata": {
        "id": "NLci9JarZtBI"
      },
      "execution_count": null,
      "outputs": []
    },
    {
      "cell_type": "code",
      "source": [
        "d2 = {\"age\": 25}"
      ],
      "metadata": {
        "id": "8NeDYmEEZlzn"
      },
      "execution_count": null,
      "outputs": []
    },
    {
      "cell_type": "code",
      "source": [
        "d3 = {**d1, **d2}"
      ],
      "metadata": {
        "id": "mLf2IfRtZ-IF"
      },
      "execution_count": null,
      "outputs": []
    },
    {
      "cell_type": "code",
      "source": [
        "print(d3)"
      ],
      "metadata": {
        "colab": {
          "base_uri": "https://localhost:8080/"
        },
        "id": "qP499RH9aAvq",
        "outputId": "17d526cd-d182-4af1-e183-e0954e01cbb4"
      },
      "execution_count": null,
      "outputs": [
        {
          "output_type": "stream",
          "name": "stdout",
          "text": [
            "{'name': 'john', 'age': 25}\n"
          ]
        }
      ]
    },
    {
      "cell_type": "markdown",
      "source": [
        "**30.**Write a code to convert a list of strings into a set."
      ],
      "metadata": {
        "id": "MOWmKkLGbGWg"
      }
    },
    {
      "cell_type": "code",
      "source": [
        "l = [\"Apple\", \"Orange\", \"Guava\", \"Pineapple\", \"Kiwi\"]"
      ],
      "metadata": {
        "id": "_GypOuYjbB5s"
      },
      "execution_count": null,
      "outputs": []
    },
    {
      "cell_type": "code",
      "source": [
        "s = set(l)"
      ],
      "metadata": {
        "id": "v77qag7Tb4aH"
      },
      "execution_count": null,
      "outputs": []
    },
    {
      "cell_type": "code",
      "source": [
        "print(s)"
      ],
      "metadata": {
        "colab": {
          "base_uri": "https://localhost:8080/"
        },
        "id": "xNKnTAgtcCVG",
        "outputId": "aa6c6524-7415-4470-afda-3d0b4a5a261b"
      },
      "execution_count": null,
      "outputs": [
        {
          "output_type": "stream",
          "name": "stdout",
          "text": [
            "{'Kiwi', 'Orange', 'Pineapple', 'Apple', 'Guava'}\n"
          ]
        }
      ]
    }
  ]
}